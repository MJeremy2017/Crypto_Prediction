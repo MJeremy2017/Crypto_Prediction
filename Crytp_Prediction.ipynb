{
 "cells": [
  {
   "cell_type": "markdown",
   "metadata": {},
   "source": [
    "# Cryto Modelling"
   ]
  },
  {
   "cell_type": "markdown",
   "metadata": {},
   "source": [
    "## Modelling on larger data set"
   ]
  },
  {
   "cell_type": "code",
   "execution_count": 49,
   "metadata": {
    "collapsed": true
   },
   "outputs": [],
   "source": [
    "%matplotlib inline"
   ]
  },
  {
   "cell_type": "code",
   "execution_count": 48,
   "metadata": {},
   "outputs": [],
   "source": [
    "import os\n",
    "import numpy as np\n",
    "import pandas as pd\n",
    "\n",
    "import keras\n",
    "from keras.models import Sequential\n",
    "from keras.layers import Activation, Dense\n",
    "from keras.layers import LSTM\n",
    "from keras.layers import Dropout\n",
    "\n",
    "from sklearn.model_selection import train_test_split\n",
    "import gc\n",
    "import matplotlib.pyplot as plt"
   ]
  },
  {
   "cell_type": "code",
   "execution_count": 5,
   "metadata": {
    "collapsed": true
   },
   "outputs": [],
   "source": [
    "path = 'crypto_data/'"
   ]
  },
  {
   "cell_type": "markdown",
   "metadata": {},
   "source": [
    "### Reshape the to get the training data\n",
    "Stateful and stateless LSTM reference:\n",
    "\n",
    "https://machinelearningmastery.com/stateful-stateless-lstm-time-series-forecasting-python/\n",
    "http://philipperemy.github.io/keras-stateful-lstm/"
   ]
  },
  {
   "cell_type": "markdown",
   "metadata": {},
   "source": [
    "#### Trainging data is the relatively change over the first price of the day"
   ]
  },
  {
   "cell_type": "code",
   "execution_count": 60,
   "metadata": {
    "collapsed": true
   },
   "outputs": [],
   "source": [
    "def create_input(dat, window_len=3):\n",
    "    # input dat: data frame\n",
    "    # output train_X: array (samples, time_step, num_features)\n",
    "    # output train_y: array labels(close price)\n",
    "    train_X = []\n",
    "    train_y = []\n",
    "    dat = dat.sort_values(by='Date').reset_index(drop=True)\n",
    "    dat = dat.drop('Date', axis=1)\n",
    "    cols = dat.columns\n",
    "    for i in range(len(dat)-window_len):\n",
    "        temp_dat = dat[i:(i+window_len)].copy().reset_index(drop=True)\n",
    "        # normalize data by computing the increase percentage: (X2-X1)/X1\n",
    "        for col in cols:\n",
    "            temp_dat[col] = temp_dat[col]/temp_dat.loc[0, col] - 1\n",
    "        train_X.append(temp_dat)\n",
    "        # increase percentage of Close price\n",
    "        train_y.append(dat.loc[(i+window_len), 'Close']/dat.loc[i, 'Close'] - 1)\n",
    "    # convert data set to array\n",
    "    train_X = [np.array(train_X[i]) for i in range(len(train_X))]\n",
    "    train_y = [np.array(train_y[i]) for i in range(len(train_y))]\n",
    "    return np.array(train_X), np.array(train_y)"
   ]
  },
  {
   "cell_type": "markdown",
   "metadata": {},
   "source": [
    "### Wrap up in a class"
   ]
  },
  {
   "cell_type": "code",
   "execution_count": 26,
   "metadata": {},
   "outputs": [],
   "source": [
    "class crypto():\n",
    "    def __init__(self):\n",
    "        self.train_X = []\n",
    "        self.train_y = []\n",
    "    \n",
    "    def create_input(self, dat, window_len=3):\n",
    "        # input dat: data frame\n",
    "        # output train_X: array (samples, time_step, num_features)\n",
    "        # output train_y: array labels(close price)\n",
    "        dat = dat.sort_values(by='Date').reset_index(drop=True)\n",
    "        dat = dat.drop('Date', axis=1)\n",
    "        cols = dat.columns\n",
    "        for i in range(len(dat)-window_len):\n",
    "            temp_dat = dat[i:(i+window_len)].copy().reset_index(drop=True)\n",
    "            # normalize data by computing the increase percentage: (X2-X1)/X1\n",
    "            for col in cols:\n",
    "                temp_dat[col] = temp_dat[col]/temp_dat.loc[0, col] - 1\n",
    "            self.train_X.append(temp_dat)\n",
    "            # increase percentage of Close price\n",
    "            self.train_y.append(dat.loc[(i+window_len), 'Close']/dat.loc[i, 'Close'] - 1)\n",
    "    \n",
    "    def read_file(self, path, window_len=3):\n",
    "        for root, dirs, files in os.walk(path):\n",
    "            for file in files:\n",
    "                print 'Processing file', file\n",
    "                dat = pd.read_csv(os.path.join(path, file))\n",
    "                dat.drop(dat.columns[0], axis=1, inplace=True)  # drop index\n",
    "                try:\n",
    "                    self.create_input(dat, window_len=window_len)  \n",
    "                except:\n",
    "                    print 'Error file', file\n",
    "                    pass\n",
    "    \n",
    "    def to_array(self):\n",
    "        # return array train_X and train_y\n",
    "        # convert data set to array\n",
    "        self.train_X = [np.array(self.train_X[i]) for i in range(len(self.train_X))]\n",
    "        self.train_y = [np.array(self.train_y[i]) for i in range(len(self.train_y))]\n",
    "        \n",
    "        return np.array(self.train_X), np.array(self.train_y)"
   ]
  },
  {
   "cell_type": "markdown",
   "metadata": {},
   "source": [
    "#### Get the training and y, window_len=10"
   ]
  },
  {
   "cell_type": "code",
   "execution_count": 15,
   "metadata": {},
   "outputs": [
    {
     "name": "stdout",
     "output_type": "stream",
     "text": [
      "Processing file Skycoin.csv\n",
      "Processing file DECENT.csv\n",
      "Processing file IOTA.csv\n",
      "Processing file WhiteCoin.csv\n",
      "Processing file Bitcoin-Private.csv\n",
      "Processing file Syscoin.csv\n",
      "Processing file Achain.csv\n",
      "Processing file byteball.csv\n",
      "Processing file Counterparty.csv\n",
      "Processing file metaverse.csv\n",
      "Processing file DigitalNote.csv\n",
      "Processing file Asch.csv\n",
      "Processing file nav-coin.csv\n",
      "Processing file MinexCoin.csv\n",
      "Processing file Nano.csv\n",
      "Processing file .DS_Store\n",
      "Error file .DS_Store\n",
      "Processing file Ardor.csv\n",
      "Processing file DigiByte.csv\n",
      "Processing file TokenPay.csv\n",
      "Processing file Bitcoin-Diamond.csv\n",
      "Processing file Gulden.csv\n",
      "Processing file SelfSell.csv\n",
      "Processing file Monero.csv\n",
      "Processing file BOScoin.csv\n",
      "Processing file ZenCash.csv\n",
      "Processing file Steem.csv\n",
      "Processing file Primecoin.csv\n",
      "Processing file Ravencoin.csv\n",
      "Processing file Hshare.csv\n",
      "Processing file BitBay.csv\n",
      "Processing file Blocknet.csv\n",
      "Processing file Litecoin-Cash.csv\n",
      "Processing file Peercoin.csv\n",
      "Processing file SaluS.csv\n",
      "Processing file ZCoin.csv\n",
      "Processing file ReddCoin.csv\n",
      "Processing file experience-points.csv\n",
      "Processing file BitShares.csv\n",
      "Processing file Waves.csv\n",
      "Processing file Ubiq.csv\n",
      "Processing file LinkEye.csv\n",
      "Processing file Unobtanium.csv\n",
      "Processing file Groestlcoin.csv\n",
      "Processing file html-coin.csv\n",
      "Processing file Siacoin.csv\n",
      "Processing file Wanchain.csv\n",
      "Processing file Lisk.csv\n",
      "Processing file MonaCoin.csv\n",
      "Processing file Factom.csv\n",
      "Processing file Particl.csv\n",
      "Processing file Zcash.csv\n",
      "Processing file Emercoin.csv\n",
      "Processing file Ethereum-Classic.csv\n",
      "Processing file Neblio.csv\n",
      "Processing file Einsteinium.csv\n",
      "Processing file Dogecoin.csv\n",
      "Processing file Burst.csv\n",
      "Processing file Electra.csv\n",
      "Processing file Viacoin.csv\n",
      "Processing file NEO.csv\n",
      "Processing file Electroneum.csv\n",
      "Processing file Huobi-Token.csv\n",
      "Processing file bytecoin-bcn.csv\n",
      "Processing file Pura.csv\n",
      "Processing file PIVX.csv\n",
      "Processing file NEM.csv\n",
      "Processing file WaykiChain.csv\n",
      "Processing file Stellar.csv\n",
      "Processing file GXChain.csv\n",
      "Processing file Elastos.csv\n",
      "Processing file BitcoinDark.csv\n",
      "Processing file Vertcoin.csv\n",
      "Processing file POA-Network.csv\n",
      "Processing file Zoin.csv\n",
      "Processing file Nexus.csv\n",
      "Processing file Stratis.csv\n",
      "Processing file Decred.csv\n",
      "Processing file ION.csv\n",
      "Processing file FairCoin.csv\n",
      "Processing file Ripple.csv\n",
      "Processing file Ethereum.csv\n",
      "Processing file Litecoin.csv\n",
      "Processing file Qtum.csv\n",
      "Processing file GameCredits.csv\n",
      "Processing file Bitcoin-Cash.csv\n",
      "Processing file SmartCash.csv\n",
      "Processing file Ark.csv\n",
      "Processing file Verge.csv\n",
      "Processing file Bitcoin.csv\n",
      "Processing file Bitcore.csv\n",
      "Processing file Cardano.csv\n",
      "Processing file CloakCoin.csv\n",
      "Processing file Stakenet.csv\n",
      "Processing file Dash.csv\n",
      "Processing file Komodo.csv\n",
      "Processing file library-credit.csv\n",
      "Processing file ZClassic.csv\n",
      "Processing file Bitcoin-Gold.csv\n",
      "Processing file BridgeCoin.csv\n",
      "Processing file Cryptonex.csv\n",
      "Processing file Nxt.csv\n"
     ]
    }
   ],
   "source": [
    "crypto = crypto()\n",
    "crypto.read_file(path, window_len=10)"
   ]
  },
  {
   "cell_type": "code",
   "execution_count": 29,
   "metadata": {},
   "outputs": [
    {
     "ename": "TypeError",
     "evalue": "unbound method to_array() must be called with crypto instance as first argument (got nothing instead)",
     "output_type": "error",
     "traceback": [
      "\u001b[0;31m---------------------------------------------------------------------------\u001b[0m",
      "\u001b[0;31mTypeError\u001b[0m                                 Traceback (most recent call last)",
      "\u001b[0;32m<ipython-input-29-c5178fb4a0bd>\u001b[0m in \u001b[0;36m<module>\u001b[0;34m()\u001b[0m\n\u001b[0;32m----> 1\u001b[0;31m \u001b[0mtrain_X\u001b[0m\u001b[0;34m,\u001b[0m \u001b[0mtrain_y\u001b[0m \u001b[0;34m=\u001b[0m \u001b[0mcrypto\u001b[0m\u001b[0;34m.\u001b[0m\u001b[0mto_array\u001b[0m\u001b[0;34m(\u001b[0m\u001b[0;34m)\u001b[0m\u001b[0;34m\u001b[0m\u001b[0m\n\u001b[0m",
      "\u001b[0;31mTypeError\u001b[0m: unbound method to_array() must be called with crypto instance as first argument (got nothing instead)"
     ]
    }
   ],
   "source": [
    "train_X, train_y = crypto.to_array()"
   ]
  },
  {
   "cell_type": "code",
   "execution_count": 30,
   "metadata": {},
   "outputs": [],
   "source": [
    "train_X, train_y = np.array(train_X), np.array(train_y)"
   ]
  },
  {
   "cell_type": "code",
   "execution_count": 31,
   "metadata": {},
   "outputs": [
    {
     "name": "stdout",
     "output_type": "stream",
     "text": [
      "training length (80626, 10, 5)\n",
      "label length (80626,)\n"
     ]
    }
   ],
   "source": [
    "print 'training length', train_X.shape\n",
    "print 'label length', train_y.shape"
   ]
  },
  {
   "cell_type": "markdown",
   "metadata": {},
   "source": [
    "### Important: \n",
    "    While in most models for price prediction 'shuffle' matters, here I treat every sample\n",
    "    equally, which means the sequence of sample feeding into the model does not matter"
   ]
  },
  {
   "cell_type": "markdown",
   "metadata": {},
   "source": [
    "### Train - Test set"
   ]
  },
  {
   "cell_type": "code",
   "execution_count": 32,
   "metadata": {
    "collapsed": true
   },
   "outputs": [],
   "source": [
    "X_train, X_test, y_train, y_test = train_test_split(train_X, train_y, test_size=0.3)"
   ]
  },
  {
   "cell_type": "markdown",
   "metadata": {},
   "source": [
    "### Build Model"
   ]
  },
  {
   "cell_type": "code",
   "execution_count": 38,
   "metadata": {
    "collapsed": true
   },
   "outputs": [],
   "source": [
    "neurons = 512                 \n",
    "activation_function = 'tanh'  \n",
    "loss = 'mse'                  \n",
    "optimizer = 'adam'              \n",
    "dropout = 0.25                 \n",
    "batch_size = 128               \n",
    "epochs = 2      \n",
    "output_size=1"
   ]
  },
  {
   "cell_type": "code",
   "execution_count": 37,
   "metadata": {},
   "outputs": [
    {
     "name": "stdout",
     "output_type": "stream",
     "text": [
      "_________________________________________________________________\n",
      "Layer (type)                 Output Shape              Param #   \n",
      "=================================================================\n",
      "lstm_4 (LSTM)                (None, 10, 512)           1060864   \n",
      "_________________________________________________________________\n",
      "dropout_4 (Dropout)          (None, 10, 512)           0         \n",
      "_________________________________________________________________\n",
      "lstm_5 (LSTM)                (None, 10, 512)           2099200   \n",
      "_________________________________________________________________\n",
      "dropout_5 (Dropout)          (None, 10, 512)           0         \n",
      "_________________________________________________________________\n",
      "lstm_6 (LSTM)                (None, 512)               2099200   \n",
      "_________________________________________________________________\n",
      "dropout_6 (Dropout)          (None, 512)               0         \n",
      "_________________________________________________________________\n",
      "dense_1 (Dense)              (None, 1)                 513       \n",
      "_________________________________________________________________\n",
      "activation_1 (Activation)    (None, 1)                 0         \n",
      "=================================================================\n",
      "Total params: 5,259,777\n",
      "Trainable params: 5,259,777\n",
      "Non-trainable params: 0\n",
      "_________________________________________________________________\n"
     ]
    }
   ],
   "source": [
    "model = Sequential()\n",
    "model.add(LSTM(neurons, return_sequences=True, \n",
    "               input_shape=(X_train.shape[1], X_train.shape[2]), activation=activation_function))\n",
    "model.add(Dropout(dropout))\n",
    "model.add(LSTM(neurons, return_sequences=True, activation=activation_function))\n",
    "model.add(Dropout(dropout))\n",
    "model.add(LSTM(neurons, activation=activation_function))\n",
    "model.add(Dropout(dropout))\n",
    "model.add(Dense(units=output_size))\n",
    "model.add(Activation(activation_function))\n",
    "model.compile(loss=loss, optimizer=optimizer, metrics=['mae'])\n",
    "model.summary()"
   ]
  },
  {
   "cell_type": "markdown",
   "metadata": {},
   "source": [
    "#### Training..."
   ]
  },
  {
   "cell_type": "code",
   "execution_count": 42,
   "metadata": {},
   "outputs": [
    {
     "name": "stdout",
     "output_type": "stream",
     "text": [
      "Train on 56438 samples, validate on 24188 samples\n",
      "Epoch 1/2\n",
      "56438/56438 [==============================] - 640s 11ms/step - loss: 4.4062 - mean_absolute_error: 0.1848 - val_loss: 3.9899 - val_mean_absolute_error: 0.1611\n",
      "Epoch 2/2\n",
      "56438/56438 [==============================] - 675s 12ms/step - loss: 4.3992 - mean_absolute_error: 0.1729 - val_loss: 3.9891 - val_mean_absolute_error: 0.1607\n"
     ]
    }
   ],
   "source": [
    "history = model.fit(X_train, y_train, epochs=epochs, \n",
    "                    batch_size=batch_size, verbose=1, validation_data=(X_test, y_test), shuffle=False)"
   ]
  },
  {
   "cell_type": "code",
   "execution_count": 54,
   "metadata": {},
   "outputs": [
    {
     "data": {
      "text/plain": [
       "0"
      ]
     },
     "execution_count": 54,
     "metadata": {},
     "output_type": "execute_result"
    }
   ],
   "source": [
    "gc.collect()"
   ]
  },
  {
   "cell_type": "markdown",
   "metadata": {},
   "source": [
    "#### Use MAPE to value the accuracy of prediction(once again the whole training is not based on one specific coin)"
   ]
  },
  {
   "cell_type": "code",
   "execution_count": 55,
   "metadata": {
    "collapsed": true
   },
   "outputs": [],
   "source": [
    "# def accuracy(y_true, y_pred):\n",
    "#     # return the accuracy of every prediction\n",
    "#     y_true, y_pred = np.array(y_true), np.array(y_pred)\n",
    "#     mape = abs(y_true-y_pred)/y_true\n",
    "#     acc = 1-mape\n",
    "#     return acc"
   ]
  },
  {
   "cell_type": "code",
   "execution_count": null,
   "metadata": {
    "collapsed": true
   },
   "outputs": [],
   "source": [
    "y_pred = model.predict(X_test)"
   ]
  },
  {
   "cell_type": "code",
   "execution_count": 108,
   "metadata": {
    "collapsed": true
   },
   "outputs": [],
   "source": [
    "accuracy = abs(y_test-np.squeeze(y_pred))*100"
   ]
  },
  {
   "cell_type": "code",
   "execution_count": 109,
   "metadata": {},
   "outputs": [
    {
     "name": "stdout",
     "output_type": "stream",
     "text": [
      "Mean prediction percentage(%) error 16.0667448663\n"
     ]
    }
   ],
   "source": [
    "print 'Mean prediction percentage(%) error', np.mean(accuracy)"
   ]
  },
  {
   "cell_type": "code",
   "execution_count": 68,
   "metadata": {
    "scrolled": true
   },
   "outputs": [
    {
     "data": {
      "text/plain": [
       "[<matplotlib.lines.Line2D at 0x11a4d13d0>]"
      ]
     },
     "execution_count": 68,
     "metadata": {},
     "output_type": "execute_result"
    },
    {
     "data": {
      "image/png": "[encoded data removed]",
      "text/plain": [
       "<matplotlib.figure.Figure at 0x121e12dd0>"
      ]
     },
     "metadata": {},
     "output_type": "display_data"
    }
   ],
   "source": [
    "plt.plot(accuracy)"
   ]
  },
  {
   "cell_type": "code",
   "execution_count": 115,
   "metadata": {},
   "outputs": [
    {
     "data": {
      "text/html": [
       "<div>\n",
       "<style>\n",
       "    .dataframe thead tr:only-child th {\n",
       "        text-align: right;\n",
       "    }\n",
       "\n",
       "    .dataframe thead th {\n",
       "        text-align: left;\n",
       "    }\n",
       "\n",
       "    .dataframe tbody tr th {\n",
       "        vertical-align: top;\n",
       "    }\n",
       "</style>\n",
       "<table border=\"1\" class=\"dataframe\">\n",
       "  <thead>\n",
       "    <tr style=\"text-align: right;\">\n",
       "      <th></th>\n",
       "      <th>pred</th>\n",
       "      <th>true</th>\n",
       "      <th>diff</th>\n",
       "    </tr>\n",
       "  </thead>\n",
       "  <tbody>\n",
       "    <tr>\n",
       "      <th>0</th>\n",
       "      <td>-3.317960</td>\n",
       "      <td>-7.567688</td>\n",
       "      <td>4.249728</td>\n",
       "    </tr>\n",
       "    <tr>\n",
       "      <th>1</th>\n",
       "      <td>66.602531</td>\n",
       "      <td>57.527945</td>\n",
       "      <td>9.074586</td>\n",
       "    </tr>\n",
       "    <tr>\n",
       "      <th>2</th>\n",
       "      <td>-7.961211</td>\n",
       "      <td>-7.960199</td>\n",
       "      <td>0.001012</td>\n",
       "    </tr>\n",
       "    <tr>\n",
       "      <th>3</th>\n",
       "      <td>-6.208723</td>\n",
       "      <td>-8.955224</td>\n",
       "      <td>2.746501</td>\n",
       "    </tr>\n",
       "    <tr>\n",
       "      <th>4</th>\n",
       "      <td>-6.558756</td>\n",
       "      <td>-10.855405</td>\n",
       "      <td>4.296650</td>\n",
       "    </tr>\n",
       "  </tbody>\n",
       "</table>\n",
       "</div>"
      ],
      "text/plain": [
       "        pred       true      diff\n",
       "0  -3.317960  -7.567688  4.249728\n",
       "1  66.602531  57.527945  9.074586\n",
       "2  -7.961211  -7.960199  0.001012\n",
       "3  -6.208723  -8.955224  2.746501\n",
       "4  -6.558756 -10.855405  4.296650"
      ]
     },
     "execution_count": 115,
     "metadata": {},
     "output_type": "execute_result"
    }
   ],
   "source": [
    "percent = pd.DataFrame({'true': 100*y_test, 'pred': 100*np.squeeze(y_pred)})\n",
    "percent['diff'] = abs(percent['true'] - percent['pred'])\n",
    "percent.head()"
   ]
  },
  {
   "cell_type": "code",
   "execution_count": 117,
   "metadata": {
    "collapsed": true
   },
   "outputs": [
    {
     "data": {
      "text/html": [
       "<div>\n",
       "<style>\n",
       "    .dataframe thead tr:only-child th {\n",
       "        text-align: right;\n",
       "    }\n",
       "\n",
       "    .dataframe thead th {\n",
       "        text-align: left;\n",
       "    }\n",
       "\n",
       "    .dataframe tbody tr th {\n",
       "        vertical-align: top;\n",
       "    }\n",
       "</style>\n",
       "<table border=\"1\" class=\"dataframe\">\n",
       "  <thead>\n",
       "    <tr style=\"text-align: right;\">\n",
       "      <th></th>\n",
       "      <th>pred</th>\n",
       "      <th>true</th>\n",
       "      <th>diff</th>\n",
       "    </tr>\n",
       "  </thead>\n",
       "  <tbody>\n",
       "    <tr>\n",
       "      <th>10</th>\n",
       "      <td>99.984138</td>\n",
       "      <td>208.738523</td>\n",
       "      <td>108.754384</td>\n",
       "    </tr>\n",
       "    <tr>\n",
       "      <th>42</th>\n",
       "      <td>99.997177</td>\n",
       "      <td>224.339425</td>\n",
       "      <td>124.342248</td>\n",
       "    </tr>\n",
       "    <tr>\n",
       "      <th>96</th>\n",
       "      <td>99.999985</td>\n",
       "      <td>2972.727273</td>\n",
       "      <td>2872.727288</td>\n",
       "    </tr>\n",
       "    <tr>\n",
       "      <th>141</th>\n",
       "      <td>99.999695</td>\n",
       "      <td>237.981799</td>\n",
       "      <td>137.982104</td>\n",
       "    </tr>\n",
       "    <tr>\n",
       "      <th>326</th>\n",
       "      <td>99.999733</td>\n",
       "      <td>553.497942</td>\n",
       "      <td>453.498209</td>\n",
       "    </tr>\n",
       "    <tr>\n",
       "      <th>408</th>\n",
       "      <td>99.453354</td>\n",
       "      <td>-59.595888</td>\n",
       "      <td>159.049242</td>\n",
       "    </tr>\n",
       "    <tr>\n",
       "      <th>414</th>\n",
       "      <td>99.999443</td>\n",
       "      <td>240.000000</td>\n",
       "      <td>140.000557</td>\n",
       "    </tr>\n",
       "    <tr>\n",
       "      <th>480</th>\n",
       "      <td>99.999939</td>\n",
       "      <td>-12.820513</td>\n",
       "      <td>112.820452</td>\n",
       "    </tr>\n",
       "    <tr>\n",
       "      <th>488</th>\n",
       "      <td>99.994675</td>\n",
       "      <td>315.360131</td>\n",
       "      <td>215.365457</td>\n",
       "    </tr>\n",
       "    <tr>\n",
       "      <th>497</th>\n",
       "      <td>99.950996</td>\n",
       "      <td>421.914250</td>\n",
       "      <td>321.963254</td>\n",
       "    </tr>\n",
       "    <tr>\n",
       "      <th>675</th>\n",
       "      <td>-0.779997</td>\n",
       "      <td>166.666667</td>\n",
       "      <td>167.446663</td>\n",
       "    </tr>\n",
       "    <tr>\n",
       "      <th>707</th>\n",
       "      <td>87.108162</td>\n",
       "      <td>462.500000</td>\n",
       "      <td>375.391838</td>\n",
       "    </tr>\n",
       "    <tr>\n",
       "      <th>757</th>\n",
       "      <td>99.999985</td>\n",
       "      <td>987.131203</td>\n",
       "      <td>887.131218</td>\n",
       "    </tr>\n",
       "    <tr>\n",
       "      <th>852</th>\n",
       "      <td>99.947327</td>\n",
       "      <td>295.929045</td>\n",
       "      <td>195.981719</td>\n",
       "    </tr>\n",
       "    <tr>\n",
       "      <th>1026</th>\n",
       "      <td>70.005371</td>\n",
       "      <td>551.678071</td>\n",
       "      <td>481.672700</td>\n",
       "    </tr>\n",
       "    <tr>\n",
       "      <th>1097</th>\n",
       "      <td>100.000000</td>\n",
       "      <td>1662.053571</td>\n",
       "      <td>1562.053571</td>\n",
       "    </tr>\n",
       "    <tr>\n",
       "      <th>1104</th>\n",
       "      <td>99.857475</td>\n",
       "      <td>240.588235</td>\n",
       "      <td>140.730760</td>\n",
       "    </tr>\n",
       "    <tr>\n",
       "      <th>1343</th>\n",
       "      <td>99.999985</td>\n",
       "      <td>3888.805970</td>\n",
       "      <td>3788.805985</td>\n",
       "    </tr>\n",
       "    <tr>\n",
       "      <th>1385</th>\n",
       "      <td>95.579765</td>\n",
       "      <td>261.113551</td>\n",
       "      <td>165.533785</td>\n",
       "    </tr>\n",
       "    <tr>\n",
       "      <th>1400</th>\n",
       "      <td>100.000000</td>\n",
       "      <td>1445.170198</td>\n",
       "      <td>1345.170198</td>\n",
       "    </tr>\n",
       "    <tr>\n",
       "      <th>1492</th>\n",
       "      <td>99.906898</td>\n",
       "      <td>233.275887</td>\n",
       "      <td>133.368989</td>\n",
       "    </tr>\n",
       "    <tr>\n",
       "      <th>1553</th>\n",
       "      <td>99.999641</td>\n",
       "      <td>333.333333</td>\n",
       "      <td>233.333692</td>\n",
       "    </tr>\n",
       "    <tr>\n",
       "      <th>1589</th>\n",
       "      <td>100.000000</td>\n",
       "      <td>1476.352705</td>\n",
       "      <td>1376.352705</td>\n",
       "    </tr>\n",
       "    <tr>\n",
       "      <th>1671</th>\n",
       "      <td>43.604046</td>\n",
       "      <td>144.927536</td>\n",
       "      <td>101.323490</td>\n",
       "    </tr>\n",
       "    <tr>\n",
       "      <th>1763</th>\n",
       "      <td>3.062403</td>\n",
       "      <td>105.263158</td>\n",
       "      <td>102.200755</td>\n",
       "    </tr>\n",
       "    <tr>\n",
       "      <th>1835</th>\n",
       "      <td>99.999535</td>\n",
       "      <td>273.684211</td>\n",
       "      <td>173.684676</td>\n",
       "    </tr>\n",
       "    <tr>\n",
       "      <th>1867</th>\n",
       "      <td>87.887520</td>\n",
       "      <td>-18.793119</td>\n",
       "      <td>106.680639</td>\n",
       "    </tr>\n",
       "    <tr>\n",
       "      <th>1883</th>\n",
       "      <td>99.998589</td>\n",
       "      <td>431.928946</td>\n",
       "      <td>331.930357</td>\n",
       "    </tr>\n",
       "    <tr>\n",
       "      <th>1974</th>\n",
       "      <td>99.999985</td>\n",
       "      <td>922.763799</td>\n",
       "      <td>822.763814</td>\n",
       "    </tr>\n",
       "    <tr>\n",
       "      <th>2023</th>\n",
       "      <td>99.987305</td>\n",
       "      <td>203.770217</td>\n",
       "      <td>103.782913</td>\n",
       "    </tr>\n",
       "    <tr>\n",
       "      <th>...</th>\n",
       "      <td>...</td>\n",
       "      <td>...</td>\n",
       "      <td>...</td>\n",
       "    </tr>\n",
       "    <tr>\n",
       "      <th>22116</th>\n",
       "      <td>100.000000</td>\n",
       "      <td>396.904700</td>\n",
       "      <td>296.904700</td>\n",
       "    </tr>\n",
       "    <tr>\n",
       "      <th>22177</th>\n",
       "      <td>99.999954</td>\n",
       "      <td>599.386503</td>\n",
       "      <td>499.386549</td>\n",
       "    </tr>\n",
       "    <tr>\n",
       "      <th>22346</th>\n",
       "      <td>97.513702</td>\n",
       "      <td>200.914282</td>\n",
       "      <td>103.400580</td>\n",
       "    </tr>\n",
       "    <tr>\n",
       "      <th>22387</th>\n",
       "      <td>99.999428</td>\n",
       "      <td>216.855644</td>\n",
       "      <td>116.856216</td>\n",
       "    </tr>\n",
       "    <tr>\n",
       "      <th>22443</th>\n",
       "      <td>99.999649</td>\n",
       "      <td>453.551716</td>\n",
       "      <td>353.552067</td>\n",
       "    </tr>\n",
       "    <tr>\n",
       "      <th>22456</th>\n",
       "      <td>99.985909</td>\n",
       "      <td>218.387448</td>\n",
       "      <td>118.401540</td>\n",
       "    </tr>\n",
       "    <tr>\n",
       "      <th>22643</th>\n",
       "      <td>99.999580</td>\n",
       "      <td>344.174769</td>\n",
       "      <td>244.175189</td>\n",
       "    </tr>\n",
       "    <tr>\n",
       "      <th>22713</th>\n",
       "      <td>99.992279</td>\n",
       "      <td>209.021692</td>\n",
       "      <td>109.029413</td>\n",
       "    </tr>\n",
       "    <tr>\n",
       "      <th>22775</th>\n",
       "      <td>99.999878</td>\n",
       "      <td>281.398706</td>\n",
       "      <td>181.398828</td>\n",
       "    </tr>\n",
       "    <tr>\n",
       "      <th>22800</th>\n",
       "      <td>99.780235</td>\n",
       "      <td>217.298757</td>\n",
       "      <td>117.518522</td>\n",
       "    </tr>\n",
       "    <tr>\n",
       "      <th>22896</th>\n",
       "      <td>99.999825</td>\n",
       "      <td>510.751819</td>\n",
       "      <td>410.751994</td>\n",
       "    </tr>\n",
       "    <tr>\n",
       "      <th>23052</th>\n",
       "      <td>99.999985</td>\n",
       "      <td>679.807692</td>\n",
       "      <td>579.807708</td>\n",
       "    </tr>\n",
       "    <tr>\n",
       "      <th>23067</th>\n",
       "      <td>99.999466</td>\n",
       "      <td>1007.909320</td>\n",
       "      <td>907.909854</td>\n",
       "    </tr>\n",
       "    <tr>\n",
       "      <th>23070</th>\n",
       "      <td>100.000015</td>\n",
       "      <td>1296.774194</td>\n",
       "      <td>1196.774178</td>\n",
       "    </tr>\n",
       "    <tr>\n",
       "      <th>23199</th>\n",
       "      <td>99.994049</td>\n",
       "      <td>376.357650</td>\n",
       "      <td>276.363601</td>\n",
       "    </tr>\n",
       "    <tr>\n",
       "      <th>23252</th>\n",
       "      <td>57.468765</td>\n",
       "      <td>-52.835771</td>\n",
       "      <td>110.304537</td>\n",
       "    </tr>\n",
       "    <tr>\n",
       "      <th>23263</th>\n",
       "      <td>7.738498</td>\n",
       "      <td>223.634507</td>\n",
       "      <td>215.896010</td>\n",
       "    </tr>\n",
       "    <tr>\n",
       "      <th>23459</th>\n",
       "      <td>69.291557</td>\n",
       "      <td>369.696970</td>\n",
       "      <td>300.405412</td>\n",
       "    </tr>\n",
       "    <tr>\n",
       "      <th>23506</th>\n",
       "      <td>99.998253</td>\n",
       "      <td>213.930348</td>\n",
       "      <td>113.932095</td>\n",
       "    </tr>\n",
       "    <tr>\n",
       "      <th>23560</th>\n",
       "      <td>95.908081</td>\n",
       "      <td>196.743192</td>\n",
       "      <td>100.835111</td>\n",
       "    </tr>\n",
       "    <tr>\n",
       "      <th>23603</th>\n",
       "      <td>-10.099189</td>\n",
       "      <td>98.965748</td>\n",
       "      <td>109.064937</td>\n",
       "    </tr>\n",
       "    <tr>\n",
       "      <th>23608</th>\n",
       "      <td>98.975967</td>\n",
       "      <td>282.236497</td>\n",
       "      <td>183.260529</td>\n",
       "    </tr>\n",
       "    <tr>\n",
       "      <th>23626</th>\n",
       "      <td>99.998238</td>\n",
       "      <td>210.837080</td>\n",
       "      <td>110.838842</td>\n",
       "    </tr>\n",
       "    <tr>\n",
       "      <th>23651</th>\n",
       "      <td>100.000000</td>\n",
       "      <td>-36.000000</td>\n",
       "      <td>136.000000</td>\n",
       "    </tr>\n",
       "    <tr>\n",
       "      <th>23778</th>\n",
       "      <td>99.999199</td>\n",
       "      <td>263.157895</td>\n",
       "      <td>163.158696</td>\n",
       "    </tr>\n",
       "    <tr>\n",
       "      <th>23860</th>\n",
       "      <td>89.380013</td>\n",
       "      <td>199.342105</td>\n",
       "      <td>109.962093</td>\n",
       "    </tr>\n",
       "    <tr>\n",
       "      <th>23875</th>\n",
       "      <td>96.774467</td>\n",
       "      <td>343.243243</td>\n",
       "      <td>246.468776</td>\n",
       "    </tr>\n",
       "    <tr>\n",
       "      <th>23971</th>\n",
       "      <td>-43.586098</td>\n",
       "      <td>84.615385</td>\n",
       "      <td>128.201482</td>\n",
       "    </tr>\n",
       "    <tr>\n",
       "      <th>24051</th>\n",
       "      <td>99.999817</td>\n",
       "      <td>299.655172</td>\n",
       "      <td>199.655356</td>\n",
       "    </tr>\n",
       "    <tr>\n",
       "      <th>24177</th>\n",
       "      <td>99.999870</td>\n",
       "      <td>330.402274</td>\n",
       "      <td>230.402403</td>\n",
       "    </tr>\n",
       "  </tbody>\n",
       "</table>\n",
       "<p>401 rows × 3 columns</p>\n",
       "</div>"
      ],
      "text/plain": [
       "             pred         true         diff\n",
       "10      99.984138   208.738523   108.754384\n",
       "42      99.997177   224.339425   124.342248\n",
       "96      99.999985  2972.727273  2872.727288\n",
       "141     99.999695   237.981799   137.982104\n",
       "326     99.999733   553.497942   453.498209\n",
       "408     99.453354   -59.595888   159.049242\n",
       "414     99.999443   240.000000   140.000557\n",
       "480     99.999939   -12.820513   112.820452\n",
       "488     99.994675   315.360131   215.365457\n",
       "497     99.950996   421.914250   321.963254\n",
       "675     -0.779997   166.666667   167.446663\n",
       "707     87.108162   462.500000   375.391838\n",
       "757     99.999985   987.131203   887.131218\n",
       "852     99.947327   295.929045   195.981719\n",
       "1026    70.005371   551.678071   481.672700\n",
       "1097   100.000000  1662.053571  1562.053571\n",
       "1104    99.857475   240.588235   140.730760\n",
       "1343    99.999985  3888.805970  3788.805985\n",
       "1385    95.579765   261.113551   165.533785\n",
       "1400   100.000000  1445.170198  1345.170198\n",
       "1492    99.906898   233.275887   133.368989\n",
       "1553    99.999641   333.333333   233.333692\n",
       "1589   100.000000  1476.352705  1376.352705\n",
       "1671    43.604046   144.927536   101.323490\n",
       "1763     3.062403   105.263158   102.200755\n",
       "1835    99.999535   273.684211   173.684676\n",
       "1867    87.887520   -18.793119   106.680639\n",
       "1883    99.998589   431.928946   331.930357\n",
       "1974    99.999985   922.763799   822.763814\n",
       "2023    99.987305   203.770217   103.782913\n",
       "...           ...          ...          ...\n",
       "22116  100.000000   396.904700   296.904700\n",
       "22177   99.999954   599.386503   499.386549\n",
       "22346   97.513702   200.914282   103.400580\n",
       "22387   99.999428   216.855644   116.856216\n",
       "22443   99.999649   453.551716   353.552067\n",
       "22456   99.985909   218.387448   118.401540\n",
       "22643   99.999580   344.174769   244.175189\n",
       "22713   99.992279   209.021692   109.029413\n",
       "22775   99.999878   281.398706   181.398828\n",
       "22800   99.780235   217.298757   117.518522\n",
       "22896   99.999825   510.751819   410.751994\n",
       "23052   99.999985   679.807692   579.807708\n",
       "23067   99.999466  1007.909320   907.909854\n",
       "23070  100.000015  1296.774194  1196.774178\n",
       "23199   99.994049   376.357650   276.363601\n",
       "23252   57.468765   -52.835771   110.304537\n",
       "23263    7.738498   223.634507   215.896010\n",
       "23459   69.291557   369.696970   300.405412\n",
       "23506   99.998253   213.930348   113.932095\n",
       "23560   95.908081   196.743192   100.835111\n",
       "23603  -10.099189    98.965748   109.064937\n",
       "23608   98.975967   282.236497   183.260529\n",
       "23626   99.998238   210.837080   110.838842\n",
       "23651  100.000000   -36.000000   136.000000\n",
       "23778   99.999199   263.157895   163.158696\n",
       "23860   89.380013   199.342105   109.962093\n",
       "23875   96.774467   343.243243   246.468776\n",
       "23971  -43.586098    84.615385   128.201482\n",
       "24051   99.999817   299.655172   199.655356\n",
       "24177   99.999870   330.402274   230.402403\n",
       "\n",
       "[401 rows x 3 columns]"
      ]
     },
     "execution_count": 117,
     "metadata": {},
     "output_type": "execute_result"
    }
   ],
   "source": [
    "percent[percent['diff']>100]"
   ]
  },
  {
   "cell_type": "markdown",
   "metadata": {},
   "source": [
    "#### Check the correlation of 'diff' and 'true', since the prediction might be cater for some coins with price fluctuate little"
   ]
  },
  {
   "cell_type": "code",
   "execution_count": 138,
   "metadata": {},
   "outputs": [
    {
     "data": {
      "text/plain": [
       "(0, 100)"
      ]
     },
     "execution_count": 138,
     "metadata": {},
     "output_type": "execute_result"
    },
    {
     "data": {
      "image/png": "[encoded data removed]",
      "text/plain": [
       "<matplotlib.figure.Figure at 0x11ed43910>"
      ]
     },
     "metadata": {},
     "output_type": "display_data"
    }
   ],
   "source": [
    "fig, ax = plt.subplots()\n",
    "ax.scatter(percent['pred'], percent['diff'])\n",
    "ax.set_ylim([0, 100])"
   ]
  },
  {
   "cell_type": "markdown",
   "metadata": {},
   "source": [
    "### Fluctuate too much, the whole model can not be used"
   ]
  },
  {
   "cell_type": "code",
   "execution_count": 119,
   "metadata": {
    "scrolled": true
   },
   "outputs": [
    {
     "data": {
      "text/html": [
       "<div>\n",
       "<style>\n",
       "    .dataframe thead tr:only-child th {\n",
       "        text-align: right;\n",
       "    }\n",
       "\n",
       "    .dataframe thead th {\n",
       "        text-align: left;\n",
       "    }\n",
       "\n",
       "    .dataframe tbody tr th {\n",
       "        vertical-align: top;\n",
       "    }\n",
       "</style>\n",
       "<table border=\"1\" class=\"dataframe\">\n",
       "  <thead>\n",
       "    <tr style=\"text-align: right;\">\n",
       "      <th></th>\n",
       "      <th>pred</th>\n",
       "      <th>true</th>\n",
       "      <th>diff</th>\n",
       "      <th>acc</th>\n",
       "    </tr>\n",
       "  </thead>\n",
       "  <tbody>\n",
       "    <tr>\n",
       "      <th>0</th>\n",
       "      <td>-3.317960</td>\n",
       "      <td>-7.567688</td>\n",
       "      <td>4.249728</td>\n",
       "      <td>1</td>\n",
       "    </tr>\n",
       "    <tr>\n",
       "      <th>1</th>\n",
       "      <td>66.602531</td>\n",
       "      <td>57.527945</td>\n",
       "      <td>9.074586</td>\n",
       "      <td>1</td>\n",
       "    </tr>\n",
       "    <tr>\n",
       "      <th>2</th>\n",
       "      <td>-7.961211</td>\n",
       "      <td>-7.960199</td>\n",
       "      <td>0.001012</td>\n",
       "      <td>1</td>\n",
       "    </tr>\n",
       "    <tr>\n",
       "      <th>3</th>\n",
       "      <td>-6.208723</td>\n",
       "      <td>-8.955224</td>\n",
       "      <td>2.746501</td>\n",
       "      <td>1</td>\n",
       "    </tr>\n",
       "    <tr>\n",
       "      <th>4</th>\n",
       "      <td>-6.558756</td>\n",
       "      <td>-10.855405</td>\n",
       "      <td>4.296650</td>\n",
       "      <td>1</td>\n",
       "    </tr>\n",
       "  </tbody>\n",
       "</table>\n",
       "</div>"
      ],
      "text/plain": [
       "        pred       true      diff  acc\n",
       "0  -3.317960  -7.567688  4.249728    1\n",
       "1  66.602531  57.527945  9.074586    1\n",
       "2  -7.961211  -7.960199  0.001012    1\n",
       "3  -6.208723  -8.955224  2.746501    1\n",
       "4  -6.558756 -10.855405  4.296650    1"
      ]
     },
     "execution_count": 119,
     "metadata": {},
     "output_type": "execute_result"
    }
   ],
   "source": [
    "percent['acc'] = percent.apply(lambda row: 1 if row['true']*row['pred']>0 else 0, axis=1)\n",
    "percent.head()"
   ]
  },
  {
   "cell_type": "code",
   "execution_count": 121,
   "metadata": {},
   "outputs": [
    {
     "name": "stdout",
     "output_type": "stream",
     "text": [
      "Accuracy is 0.885852488837\n"
     ]
    }
   ],
   "source": [
    "print 'Accuracy is', float(np.sum(percent['acc']))/len(percent)"
   ]
  },
  {
   "cell_type": "markdown",
   "metadata": {},
   "source": [
    "#### But this increase is compare to the price 10 days ago, which does not make much sense"
   ]
  },
  {
   "cell_type": "code",
   "execution_count": 72,
   "metadata": {
    "collapsed": true
   },
   "outputs": [],
   "source": [
    "from scipy import stats"
   ]
  },
  {
   "cell_type": "code",
   "execution_count": 73,
   "metadata": {},
   "outputs": [
    {
     "data": {
      "text/plain": [
       "DescribeResult(nobs=24188, minmax=(0.0010116035072504914, 25331.91501282631), mean=16.066744866303456, variance=39634.720432208211, skewness=96.84532818581582, kurtosis=11441.37925988595)"
      ]
     },
     "execution_count": 73,
     "metadata": {},
     "output_type": "execute_result"
    }
   ],
   "source": [
    "stats.describe(np.array(accuracy))"
   ]
  },
  {
   "cell_type": "code",
   "execution_count": 110,
   "metadata": {},
   "outputs": [
    {
     "name": "stdout",
     "output_type": "stream",
     "text": [
      "0.1 quantile of accuracy is 0.0078182348772\n",
      "0.2 quantile of accuracy is 0.0140293577406\n",
      "0.3 quantile of accuracy is 0.0194824157545\n",
      "0.4 quantile of accuracy is 0.0289834911443\n",
      "0.5 quantile of accuracy is 0.0362555015672\n",
      "0.6 quantile of accuracy is 0.0432046082585\n",
      "0.7 quantile of accuracy is 0.0513833025298\n",
      "0.8 quantile of accuracy is 0.0592428869947\n",
      "0.9 quantile of accuracy is 0.0670042706014\n"
     ]
    }
   ],
   "source": [
    "for i in range(1, 10):\n",
    "    perc = i/10.\n",
    "    print '{} quantile of accuracy is {}'.format(perc, np.percentile(np.array(accuracy), perc))"
   ]
  },
  {
   "cell_type": "markdown",
   "metadata": {},
   "source": [
    "### Now turn the model into a classification problem, predict if increase or not price"
   ]
  },
  {
   "cell_type": "markdown",
   "metadata": {},
   "source": [
    "#### Get the close increase of all test set"
   ]
  },
  {
   "cell_type": "code",
   "execution_count": 88,
   "metadata": {},
   "outputs": [],
   "source": [
    "prev_day_close = X_test[:, -1, -2]"
   ]
  },
  {
   "cell_type": "code",
   "execution_count": 93,
   "metadata": {},
   "outputs": [
    {
     "data": {
      "text/html": [
       "<div>\n",
       "<style>\n",
       "    .dataframe thead tr:only-child th {\n",
       "        text-align: right;\n",
       "    }\n",
       "\n",
       "    .dataframe thead th {\n",
       "        text-align: left;\n",
       "    }\n",
       "\n",
       "    .dataframe tbody tr th {\n",
       "        vertical-align: top;\n",
       "    }\n",
       "</style>\n",
       "<table border=\"1\" class=\"dataframe\">\n",
       "  <thead>\n",
       "    <tr style=\"text-align: right;\">\n",
       "      <th></th>\n",
       "      <th>prev_day_close</th>\n",
       "      <th>today_actual_close</th>\n",
       "      <th>today_pred_close</th>\n",
       "    </tr>\n",
       "  </thead>\n",
       "  <tbody>\n",
       "    <tr>\n",
       "      <th>0</th>\n",
       "      <td>-0.039503</td>\n",
       "      <td>-0.075677</td>\n",
       "      <td>-0.033180</td>\n",
       "    </tr>\n",
       "    <tr>\n",
       "      <th>1</th>\n",
       "      <td>0.648792</td>\n",
       "      <td>0.575279</td>\n",
       "      <td>0.666025</td>\n",
       "    </tr>\n",
       "    <tr>\n",
       "      <th>2</th>\n",
       "      <td>-0.079602</td>\n",
       "      <td>-0.079602</td>\n",
       "      <td>-0.079612</td>\n",
       "    </tr>\n",
       "    <tr>\n",
       "      <th>3</th>\n",
       "      <td>-0.059701</td>\n",
       "      <td>-0.089552</td>\n",
       "      <td>-0.062087</td>\n",
       "    </tr>\n",
       "    <tr>\n",
       "      <th>4</th>\n",
       "      <td>-0.081081</td>\n",
       "      <td>-0.108554</td>\n",
       "      <td>-0.065588</td>\n",
       "    </tr>\n",
       "  </tbody>\n",
       "</table>\n",
       "</div>"
      ],
      "text/plain": [
       "   prev_day_close  today_actual_close  today_pred_close\n",
       "0       -0.039503           -0.075677         -0.033180\n",
       "1        0.648792            0.575279          0.666025\n",
       "2       -0.079602           -0.079602         -0.079612\n",
       "3       -0.059701           -0.089552         -0.062087\n",
       "4       -0.081081           -0.108554         -0.065588"
      ]
     },
     "execution_count": 93,
     "metadata": {},
     "output_type": "execute_result"
    }
   ],
   "source": [
    "close_price = pd.DataFrame({'prev_day_close': prev_day_close, \n",
    "                            'today_actual_close': y_test, 'today_pred_close': np.squeeze(y_pred)})\n",
    "close_price.head()"
   ]
  },
  {
   "cell_type": "code",
   "execution_count": 100,
   "metadata": {},
   "outputs": [
    {
     "data": {
      "text/html": [
       "<div>\n",
       "<style>\n",
       "    .dataframe thead tr:only-child th {\n",
       "        text-align: right;\n",
       "    }\n",
       "\n",
       "    .dataframe thead th {\n",
       "        text-align: left;\n",
       "    }\n",
       "\n",
       "    .dataframe tbody tr th {\n",
       "        vertical-align: top;\n",
       "    }\n",
       "</style>\n",
       "<table border=\"1\" class=\"dataframe\">\n",
       "  <thead>\n",
       "    <tr style=\"text-align: right;\">\n",
       "      <th></th>\n",
       "      <th>prev_day_close</th>\n",
       "      <th>today_actual_close</th>\n",
       "      <th>today_pred_close</th>\n",
       "      <th>actual_increase</th>\n",
       "      <th>pred_increase</th>\n",
       "    </tr>\n",
       "  </thead>\n",
       "  <tbody>\n",
       "    <tr>\n",
       "      <th>0</th>\n",
       "      <td>-0.039503</td>\n",
       "      <td>-0.075677</td>\n",
       "      <td>-0.033180</td>\n",
       "      <td>0</td>\n",
       "      <td>1</td>\n",
       "    </tr>\n",
       "    <tr>\n",
       "      <th>1</th>\n",
       "      <td>0.648792</td>\n",
       "      <td>0.575279</td>\n",
       "      <td>0.666025</td>\n",
       "      <td>0</td>\n",
       "      <td>1</td>\n",
       "    </tr>\n",
       "    <tr>\n",
       "      <th>2</th>\n",
       "      <td>-0.079602</td>\n",
       "      <td>-0.079602</td>\n",
       "      <td>-0.079612</td>\n",
       "      <td>0</td>\n",
       "      <td>0</td>\n",
       "    </tr>\n",
       "    <tr>\n",
       "      <th>3</th>\n",
       "      <td>-0.059701</td>\n",
       "      <td>-0.089552</td>\n",
       "      <td>-0.062087</td>\n",
       "      <td>0</td>\n",
       "      <td>0</td>\n",
       "    </tr>\n",
       "    <tr>\n",
       "      <th>4</th>\n",
       "      <td>-0.081081</td>\n",
       "      <td>-0.108554</td>\n",
       "      <td>-0.065588</td>\n",
       "      <td>0</td>\n",
       "      <td>1</td>\n",
       "    </tr>\n",
       "  </tbody>\n",
       "</table>\n",
       "</div>"
      ],
      "text/plain": [
       "   prev_day_close  today_actual_close  today_pred_close  actual_increase  \\\n",
       "0       -0.039503           -0.075677         -0.033180                0   \n",
       "1        0.648792            0.575279          0.666025                0   \n",
       "2       -0.079602           -0.079602         -0.079612                0   \n",
       "3       -0.059701           -0.089552         -0.062087                0   \n",
       "4       -0.081081           -0.108554         -0.065588                0   \n",
       "\n",
       "   pred_increase  \n",
       "0              1  \n",
       "1              1  \n",
       "2              0  \n",
       "3              0  \n",
       "4              1  "
      ]
     },
     "execution_count": 100,
     "metadata": {},
     "output_type": "execute_result"
    }
   ],
   "source": [
    "close_price['actual_increase'] = (close_price['today_actual_close'] - close_price['prev_day_close']).apply(lambda x: 1 if x>0 else 0)\n",
    "close_price['pred_increase'] = (close_price['today_pred_close'] - close_price['prev_day_close']).apply(lambda x: 1 if x>0 else 0)\n",
    "close_price.head()"
   ]
  },
  {
   "cell_type": "code",
   "execution_count": 104,
   "metadata": {},
   "outputs": [
    {
     "name": "stdout",
     "output_type": "stream",
     "text": [
      "Classification accuracy is 0.511286588391\n"
     ]
    }
   ],
   "source": [
    "correct = 1\n",
    "for i in range(len(close_price)):\n",
    "    if close_price.loc[i, 'actual_increase'] == close_price.loc[i, 'pred_increase']:\n",
    "        correct += 1\n",
    "print 'Classification accuracy is', float(correct)/len(close_price)"
   ]
  },
  {
   "cell_type": "markdown",
   "metadata": {},
   "source": [
    "#### No use at all !!!"
   ]
  },
  {
   "cell_type": "markdown",
   "metadata": {},
   "source": [
    "## Use the first window_len days to predict if the coming day price will go up"
   ]
  },
  {
   "cell_type": "code",
   "execution_count": 143,
   "metadata": {},
   "outputs": [],
   "source": [
    "class crypto():\n",
    "    def __init__(self):\n",
    "        self.train_X = []\n",
    "        self.train_y = []\n",
    "    \n",
    "    def create_input(self, dat, window_len=3):\n",
    "        # input dat: data frame\n",
    "        # output train_X: array (samples, time_step, num_features)\n",
    "        # output train_y: array labels(close price)\n",
    "        dat = dat.sort_values(by='Date').reset_index(drop=True)\n",
    "        dat = dat.drop('Date', axis=1)\n",
    "        cols = dat.columns\n",
    "        for i in range(len(dat)-window_len):\n",
    "            temp_dat = dat[i:(i+window_len)].copy().reset_index(drop=True)\n",
    "            # normalize data by computing the increase percentage: (X2-X1)/X1\n",
    "            for col in cols:\n",
    "                temp_dat[col] = temp_dat[col]/temp_dat.loc[0, col] - 1\n",
    "            self.train_X.append(temp_dat)\n",
    "            # if the price goes up, up -> 1 else -> 0\n",
    "            price_diff = dat.loc[(i+window_len), 'Close']-dat.loc[(i+window_len-1), 'Close']\n",
    "            self.train_y.append(1 if price_diff > 0 else 0)\n",
    "    \n",
    "    def read_file(self, path, window_len=3):\n",
    "        for root, dirs, files in os.walk(path):\n",
    "            for file in files:\n",
    "                print 'Processing file', file\n",
    "                dat = pd.read_csv(os.path.join(path, file))\n",
    "                dat.drop(dat.columns[0], axis=1, inplace=True)  # drop index\n",
    "                try:\n",
    "                    self.create_input(dat, window_len=window_len)  \n",
    "                except:\n",
    "                    print 'Error file', file\n",
    "                    pass\n",
    "    \n",
    "    def to_array(self):\n",
    "        # return array train_X and train_y\n",
    "        # convert data set to array\n",
    "        self.train_X = [np.array(self.train_X[i]) for i in range(len(self.train_X))]\n",
    "        self.train_y = [np.array(self.train_y[i]) for i in range(len(self.train_y))]\n",
    "        \n",
    "        return np.array(self.train_X), np.array(self.train_y)"
   ]
  },
  {
   "cell_type": "code",
   "execution_count": 145,
   "metadata": {},
   "outputs": [],
   "source": [
    "crypto_2 = crypto()"
   ]
  },
  {
   "cell_type": "code",
   "execution_count": 146,
   "metadata": {},
   "outputs": [
    {
     "name": "stdout",
     "output_type": "stream",
     "text": [
      "Processing file Skycoin.csv\n",
      "Processing file DECENT.csv\n",
      "Processing file IOTA.csv\n",
      "Processing file WhiteCoin.csv\n",
      "Processing file Bitcoin-Private.csv\n",
      "Processing file Syscoin.csv\n",
      "Processing file Achain.csv\n",
      "Processing file byteball.csv\n",
      "Processing file Counterparty.csv\n",
      "Processing file metaverse.csv\n",
      "Processing file DigitalNote.csv\n",
      "Processing file Asch.csv\n",
      "Processing file nav-coin.csv\n",
      "Processing file MinexCoin.csv\n",
      "Processing file Nano.csv\n",
      "Processing file .DS_Store\n",
      "Error file .DS_Store\n",
      "Processing file Ardor.csv\n",
      "Processing file DigiByte.csv\n",
      "Processing file TokenPay.csv\n",
      "Processing file Bitcoin-Diamond.csv\n",
      "Processing file Gulden.csv\n",
      "Processing file SelfSell.csv\n",
      "Processing file Monero.csv\n",
      "Processing file BOScoin.csv\n",
      "Processing file ZenCash.csv\n",
      "Processing file Steem.csv\n",
      "Processing file Primecoin.csv\n",
      "Processing file Ravencoin.csv\n",
      "Processing file Hshare.csv\n",
      "Processing file BitBay.csv\n",
      "Processing file Blocknet.csv\n",
      "Processing file Litecoin-Cash.csv\n",
      "Processing file Peercoin.csv\n",
      "Processing file SaluS.csv\n",
      "Processing file ZCoin.csv\n",
      "Processing file ReddCoin.csv\n",
      "Processing file experience-points.csv\n",
      "Processing file BitShares.csv\n",
      "Processing file Waves.csv\n",
      "Processing file Ubiq.csv\n",
      "Processing file LinkEye.csv\n",
      "Processing file Unobtanium.csv\n",
      "Processing file Groestlcoin.csv\n",
      "Processing file html-coin.csv\n",
      "Processing file Siacoin.csv\n",
      "Processing file Wanchain.csv\n",
      "Processing file Lisk.csv\n",
      "Processing file MonaCoin.csv\n",
      "Processing file Factom.csv\n",
      "Processing file Particl.csv\n",
      "Processing file Zcash.csv\n",
      "Processing file Emercoin.csv\n",
      "Processing file Ethereum-Classic.csv\n",
      "Processing file Neblio.csv\n",
      "Processing file Einsteinium.csv\n",
      "Processing file Dogecoin.csv\n",
      "Processing file Burst.csv\n",
      "Processing file Electra.csv\n",
      "Processing file Viacoin.csv\n",
      "Processing file NEO.csv\n",
      "Processing file Electroneum.csv\n",
      "Processing file Huobi-Token.csv\n",
      "Processing file bytecoin-bcn.csv\n",
      "Processing file Pura.csv\n",
      "Processing file PIVX.csv\n",
      "Processing file NEM.csv\n",
      "Processing file WaykiChain.csv\n",
      "Processing file Stellar.csv\n",
      "Processing file GXChain.csv\n",
      "Processing file Elastos.csv\n",
      "Processing file BitcoinDark.csv\n",
      "Processing file Vertcoin.csv\n",
      "Processing file POA-Network.csv\n",
      "Processing file Zoin.csv\n",
      "Processing file Nexus.csv\n",
      "Processing file Stratis.csv\n",
      "Processing file Decred.csv\n",
      "Processing file ION.csv\n",
      "Processing file FairCoin.csv\n",
      "Processing file Ripple.csv\n",
      "Processing file Ethereum.csv\n",
      "Processing file Litecoin.csv\n",
      "Processing file Qtum.csv\n",
      "Processing file GameCredits.csv\n",
      "Processing file Bitcoin-Cash.csv\n",
      "Processing file SmartCash.csv\n",
      "Processing file Ark.csv\n",
      "Processing file Verge.csv\n",
      "Processing file Bitcoin.csv\n",
      "Processing file Bitcore.csv\n",
      "Processing file Cardano.csv\n",
      "Processing file CloakCoin.csv\n",
      "Processing file Stakenet.csv\n",
      "Processing file Dash.csv\n",
      "Processing file Komodo.csv\n",
      "Processing file library-credit.csv\n",
      "Processing file ZClassic.csv\n",
      "Processing file Bitcoin-Gold.csv\n",
      "Processing file BridgeCoin.csv\n",
      "Processing file Cryptonex.csv\n",
      "Processing file Nxt.csv\n"
     ]
    }
   ],
   "source": [
    "crypto_2.read_file(path, 10)"
   ]
  },
  {
   "cell_type": "code",
   "execution_count": 147,
   "metadata": {
    "collapsed": true
   },
   "outputs": [],
   "source": [
    "train_X = crypto_2.train_X\n",
    "train_y = crypto_2.train_y"
   ]
  },
  {
   "cell_type": "code",
   "execution_count": 152,
   "metadata": {},
   "outputs": [],
   "source": [
    "train_X, train_y = crypto_2.to_array()"
   ]
  },
  {
   "cell_type": "code",
   "execution_count": 155,
   "metadata": {},
   "outputs": [],
   "source": [
    "X_train, X_test, y_train, y_test = train_test_split(train_X, train_y, test_size=0.3)"
   ]
  },
  {
   "cell_type": "code",
   "execution_count": 156,
   "metadata": {},
   "outputs": [
    {
     "name": "stdout",
     "output_type": "stream",
     "text": [
      "_________________________________________________________________\n",
      "Layer (type)                 Output Shape              Param #   \n",
      "=================================================================\n",
      "lstm_7 (LSTM)                (None, 10, 512)           1060864   \n",
      "_________________________________________________________________\n",
      "dropout_7 (Dropout)          (None, 10, 512)           0         \n",
      "_________________________________________________________________\n",
      "lstm_8 (LSTM)                (None, 10, 512)           2099200   \n",
      "_________________________________________________________________\n",
      "dropout_8 (Dropout)          (None, 10, 512)           0         \n",
      "_________________________________________________________________\n",
      "lstm_9 (LSTM)                (None, 512)               2099200   \n",
      "_________________________________________________________________\n",
      "dropout_9 (Dropout)          (None, 512)               0         \n",
      "_________________________________________________________________\n",
      "dense_2 (Dense)              (None, 1)                 513       \n",
      "=================================================================\n",
      "Total params: 5,259,777\n",
      "Trainable params: 5,259,777\n",
      "Non-trainable params: 0\n",
      "_________________________________________________________________\n"
     ]
    }
   ],
   "source": [
    "neurons = 512                 \n",
    "activation_function = 'tanh'  \n",
    "loss = 'binary_crossentropy'                  \n",
    "optimizer = 'adam'              \n",
    "dropout = 0.25                 \n",
    "batch_size = 128               \n",
    "epochs = 2      \n",
    "output_size=1\n",
    "\n",
    "model = Sequential()\n",
    "model.add(LSTM(neurons, return_sequences=True, \n",
    "               input_shape=(X_train.shape[1], X_train.shape[2]), activation=activation_function))\n",
    "model.add(Dropout(dropout))\n",
    "model.add(LSTM(neurons, return_sequences=True, activation=activation_function))\n",
    "model.add(Dropout(dropout))\n",
    "model.add(LSTM(neurons, activation=activation_function))\n",
    "model.add(Dropout(dropout))\n",
    "model.add(Dense(units=output_size, activation='sigmoid'))\n",
    "model.compile(loss=loss, optimizer=optimizer, metrics=['accuracy'])\n",
    "model.summary()"
   ]
  },
  {
   "cell_type": "markdown",
   "metadata": {},
   "source": [
    "### Train with only 2 epochs"
   ]
  },
  {
   "cell_type": "code",
   "execution_count": 157,
   "metadata": {},
   "outputs": [
    {
     "name": "stdout",
     "output_type": "stream",
     "text": [
      "Train on 56438 samples, validate on 24188 samples\n",
      "Epoch 1/2\n",
      "56438/56438 [==============================] - 758s 13ms/step - loss: 0.6922 - acc: 0.5262 - val_loss: 0.6942 - val_acc: 0.5232\n",
      "Epoch 2/2\n",
      "56438/56438 [==============================] - 606s 11ms/step - loss: 0.6912 - acc: 0.5292 - val_loss: 0.6911 - val_acc: 0.5249\n"
     ]
    }
   ],
   "source": [
    "history = model.fit(X_train, y_train, epochs=epochs, \n",
    "                    batch_size=batch_size, verbose=1, validation_data=(X_test, y_test), shuffle=True)"
   ]
  },
  {
   "cell_type": "code",
   "execution_count": 158,
   "metadata": {},
   "outputs": [
    {
     "data": {
      "text/plain": [
       "567"
      ]
     },
     "execution_count": 158,
     "metadata": {},
     "output_type": "execute_result"
    }
   ],
   "source": [
    "gc.collect()"
   ]
  },
  {
   "cell_type": "code",
   "execution_count": null,
   "metadata": {
    "collapsed": true
   },
   "outputs": [],
   "source": []
  }
 ],
 "metadata": {
  "kernelspec": {
   "display_name": "Python 2",
   "language": "python",
   "name": "python2"
  },
  "language_info": {
   "codemirror_mode": {
    "name": "ipython",
    "version": 2
   },
   "file_extension": ".py",
   "mimetype": "text/x-python",
   "name": "python",
   "nbconvert_exporter": "python",
   "pygments_lexer": "ipython2",
   "version": "2.7.13"
  }
 },
 "nbformat": 4,
 "nbformat_minor": 2
}
