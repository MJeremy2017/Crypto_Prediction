{
 "cells": [
  {
   "cell_type": "markdown",
   "metadata": {},
   "source": [
    "# Crytocurrency Data Download(Top 100)"
   ]
  },
  {
   "cell_type": "code",
   "execution_count": 5,
   "metadata": {
    "collapsed": true
   },
   "outputs": [],
   "source": [
    "import pandas as pd\n",
    "import time"
   ]
  },
  {
   "cell_type": "markdown",
   "metadata": {},
   "source": [
    "### Data Loading\n",
    "    1. Read the names of all coins\n",
    "    2. For each coin load all data\n",
    "    3. Find abnormal data(coin data with 0 volume)"
   ]
  },
  {
   "cell_type": "code",
   "execution_count": 60,
   "metadata": {
    "collapsed": true
   },
   "outputs": [],
   "source": [
    "coins = pd.read_html('https://coinmarketcap.com/coins/', flavor='html5lib')[0]"
   ]
  },
  {
   "cell_type": "markdown",
   "metadata": {},
   "source": [
    "#### Get the names of all coins"
   ]
  },
  {
   "cell_type": "code",
   "execution_count": 62,
   "metadata": {},
   "outputs": [],
   "source": [
    "coin_list = list(coins['Name'].apply(lambda x: '-'.join(x.split(' ')[1:])))"
   ]
  },
  {
   "cell_type": "code",
   "execution_count": 65,
   "metadata": {},
   "outputs": [],
   "source": [
    "# replace 'Experience-Po...' with 'experience-points'\n",
    "coin_list = map(lambda x: 'experience-points' if x=='Experience-Po...' else x, coin_list)"
   ]
  },
  {
   "cell_type": "code",
   "execution_count": 66,
   "metadata": {
    "collapsed": true
   },
   "outputs": [],
   "source": [
    "# replace '-Unobtanium' with 'Unobtanium'\n",
    "coin_list = map(lambda x: 'Unobtanium' if x=='-Unobtanium' else x, coin_list)"
   ]
  },
  {
   "cell_type": "code",
   "execution_count": 70,
   "metadata": {
    "collapsed": true
   },
   "outputs": [],
   "source": [
    "# replace 'Bytecoin' with 'bytecoin-bcn'\n",
    "coin_list = map(lambda x: 'bytecoin-bcn' if x=='Bytecoin' else x, coin_list)"
   ]
  },
  {
   "cell_type": "code",
   "execution_count": 73,
   "metadata": {
    "collapsed": true
   },
   "outputs": [],
   "source": [
    "# replace 'Byteball-Bytes' with 'byteball'\n",
    "coin_list = map(lambda x: 'byteball' if x=='Byteball-Bytes' else x, coin_list)"
   ]
  },
  {
   "cell_type": "code",
   "execution_count": 79,
   "metadata": {},
   "outputs": [],
   "source": [
    "def read_coin(coin_list):\n",
    "    error_coin = []\n",
    "    i = 0\n",
    "    for coin in coin_list:\n",
    "        i += 1\n",
    "        print'Downloading', coin\n",
    "        print 'Coin', i\n",
    "        try:\n",
    "            dat = pd.read_html('https://coinmarketcap.com/currencies/' + coin +\n",
    "                             '/historical-data/?start=20130428&end=' +\n",
    "                             time.strftime('%Y%m%d'), flavor='html5lib')[0]\n",
    "            dat.drop('Market Cap', axis=1, inplace=True)\n",
    "            dat.columns = ['Date', 'Open', 'High', 'Low', 'Close', 'Volume']\n",
    "            dat['Date'] = pd.to_datetime(dat['Date'])\n",
    "            dat['Volume'] = (pd.to_numeric(dat['Volume'], errors='coerce').fillna(0))\n",
    "            # drop volume equals 0\n",
    "            dat = dat[~(dat['Volume']==0)]\n",
    "            # store data\n",
    "            dat.to_csv('crypto_data/'+coin+'.csv')\n",
    "        except:\n",
    "            print 'Raise Error', coin\n",
    "            error_coin.append(coin)\n",
    "            pass\n",
    "    return error_coin"
   ]
  },
  {
   "cell_type": "code",
   "execution_count": 80,
   "metadata": {},
   "outputs": [
    {
     "name": "stdout",
     "output_type": "stream",
     "text": [
      "Downloading Bitcoin\n",
      "Coin 1\n",
      "Downloading Ethereum\n",
      "Coin 2\n",
      "Downloading Ripple\n",
      "Coin 3\n",
      "Downloading Bitcoin-Cash\n",
      "Coin 4\n",
      "Downloading Litecoin\n",
      "Coin 5\n",
      "Downloading Cardano\n",
      "Coin 6\n",
      "Downloading Stellar\n",
      "Coin 7\n",
      "Downloading IOTA\n",
      "Coin 8\n",
      "Downloading NEO\n",
      "Coin 9\n",
      "Downloading Monero\n",
      "Coin 10\n",
      "Downloading Dash\n",
      "Coin 11\n",
      "Downloading NEM\n",
      "Coin 12\n",
      "Downloading Ethereum-Classic\n",
      "Coin 13\n",
      "Downloading Qtum\n",
      "Coin 14\n",
      "Downloading bytecoin-bcn\n",
      "Coin 15\n",
      "Downloading Zcash\n",
      "Coin 16\n",
      "Downloading Lisk\n",
      "Coin 17\n",
      "Downloading Bitcoin-Gold\n",
      "Coin 18\n",
      "Downloading Decred\n",
      "Coin 19\n",
      "Downloading Steem\n",
      "Coin 20\n",
      "Downloading Verge\n",
      "Coin 21\n",
      "Downloading Nano\n",
      "Coin 22\n",
      "Downloading BitShares\n",
      "Coin 23\n",
      "Downloading Siacoin\n",
      "Coin 24\n",
      "Downloading Wanchain\n",
      "Coin 25\n",
      "Downloading Bitcoin-Diamond\n",
      "Coin 26\n",
      "Downloading Bitcoin-Private\n",
      "Coin 27\n",
      "Downloading Stratis\n",
      "Coin 28\n",
      "Downloading Waves\n",
      "Coin 29\n",
      "Downloading Dogecoin\n",
      "Coin 30\n",
      "Downloading DigiByte\n",
      "Coin 31\n",
      "Downloading WaykiChain\n",
      "Coin 32\n",
      "Downloading Hshare\n",
      "Coin 33\n",
      "Downloading Komodo\n",
      "Coin 34\n",
      "Downloading Ardor\n",
      "Coin 35\n",
      "Downloading Ark\n",
      "Coin 36\n",
      "Downloading PIVX\n",
      "Coin 37\n",
      "Downloading MonaCoin\n",
      "Coin 38\n",
      "Downloading Cryptonex\n",
      "Coin 39\n",
      "Downloading Elastos\n",
      "Coin 40\n",
      "Downloading Syscoin\n",
      "Coin 41\n",
      "Downloading Skycoin\n",
      "Coin 42\n",
      "Downloading GXChain\n",
      "Coin 43\n",
      "Downloading ReddCoin\n",
      "Coin 44\n",
      "Downloading Huobi-Token\n",
      "Coin 45\n",
      "Downloading Electroneum\n",
      "Coin 46\n",
      "Downloading ZCoin\n",
      "Coin 47\n",
      "Downloading Nexus\n",
      "Coin 48\n",
      "Downloading Nxt\n",
      "Coin 49\n",
      "Downloading Factom\n",
      "Coin 50\n",
      "Downloading Emercoin\n",
      "Coin 51\n",
      "Downloading ZenCash\n",
      "Coin 52\n",
      "Downloading byteball\n",
      "Coin 53\n",
      "Downloading Achain\n",
      "Coin 54\n",
      "Downloading Blocknet\n",
      "Coin 55\n",
      "Downloading Neblio\n",
      "Coin 56\n",
      "Downloading SmartCash\n",
      "Coin 57\n",
      "Downloading BitcoinDark\n",
      "Coin 58\n",
      "Downloading Particl\n",
      "Coin 59\n",
      "Downloading Vertcoin\n",
      "Coin 60\n",
      "Downloading Asch\n",
      "Coin 61\n",
      "Downloading POA-Network\n",
      "Coin 62\n",
      "Downloading BOScoin\n",
      "Coin 63\n",
      "Downloading DigitalNote\n",
      "Coin 64\n",
      "Downloading Groestlcoin\n",
      "Coin 65\n",
      "Downloading GameCredits\n",
      "Coin 66\n",
      "Downloading Ubiq\n",
      "Coin 67\n",
      "Downloading TokenPay\n",
      "Coin 68\n",
      "Downloading NavCoin\n",
      "Coin 69\n",
      "Raise Error NavCoin\n",
      "Downloading BridgeCoin\n",
      "Coin 70\n",
      "Downloading Bitcore\n",
      "Coin 71\n",
      "Downloading Primecoin\n",
      "Coin 72\n",
      "Downloading Peercoin\n",
      "Coin 73\n",
      "Downloading ZClassic\n",
      "Coin 74\n",
      "Downloading Burst\n",
      "Coin 75\n",
      "Downloading Litecoin-Cash\n",
      "Coin 76\n",
      "Downloading Electra\n",
      "Coin 77\n",
      "Downloading BitBay\n",
      "Coin 78\n",
      "Downloading Einsteinium\n",
      "Coin 79\n",
      "Downloading SaluS\n",
      "Coin 80\n",
      "Downloading CloakCoin\n",
      "Coin 81\n",
      "Downloading HTMLCOIN\n",
      "Coin 82\n",
      "Raise Error HTMLCOIN\n",
      "Downloading Ravencoin\n",
      "Coin 83\n",
      "Downloading Viacoin\n",
      "Coin 84\n",
      "Downloading ION\n",
      "Coin 85\n",
      "Downloading experience-points\n",
      "Coin 86\n",
      "Downloading Gulden\n",
      "Coin 87\n",
      "Downloading MinexCoin\n",
      "Coin 88\n",
      "Downloading Stakenet\n",
      "Coin 89\n",
      "Downloading WhiteCoin\n",
      "Coin 90\n",
      "Downloading Counterparty\n",
      "Coin 91\n",
      "Downloading LBRY-Credits\n",
      "Coin 92\n",
      "Raise Error LBRY-Credits\n",
      "Downloading LinkEye\n",
      "Coin 93\n",
      "Downloading Pura\n",
      "Coin 94\n",
      "Downloading Metaverse-ETP\n",
      "Coin 95\n",
      "Raise Error Metaverse-ETP\n",
      "Downloading SelfSell\n",
      "Coin 96\n",
      "Downloading Zoin\n",
      "Coin 97\n",
      "Downloading DECENT\n",
      "Coin 98\n",
      "Downloading Unobtanium\n",
      "Coin 99\n",
      "Downloading FairCoin\n",
      "Coin 100\n"
     ]
    }
   ],
   "source": [
    "error_coins = read_coin(coin_list)"
   ]
  },
  {
   "cell_type": "markdown",
   "metadata": {},
   "source": [
    "### Error in NavCoin, HTMLCOIN, LBRY-Credits, Metaverse-ETP; Reload manually"
   ]
  },
  {
   "cell_type": "code",
   "execution_count": 83,
   "metadata": {},
   "outputs": [
    {
     "data": {
      "text/plain": [
       "[u'NavCoin', u'HTMLCOIN', u'LBRY-Credits', u'Metaverse-ETP']"
      ]
     },
     "execution_count": 83,
     "metadata": {},
     "output_type": "execute_result"
    }
   ],
   "source": [
    "error_coins"
   ]
  },
  {
   "cell_type": "code",
   "execution_count": 84,
   "metadata": {},
   "outputs": [],
   "source": [
    "correct_coins = ['nav-coin', 'html-coin', 'library-credit', 'metaverse']\n",
    "for coin in correct_coins:\n",
    "    dat = pd.read_html('https://coinmarketcap.com/currencies/' + coin +\n",
    "                             '/historical-data/?start=20130428&end=' +\n",
    "                             time.strftime('%Y%m%d'), flavor='html5lib')[0]\n",
    "    dat.drop('Market Cap', axis=1, inplace=True)\n",
    "    dat.columns = ['Date', 'Open', 'High', 'Low', 'Close', 'Volume']\n",
    "    dat['Date'] = pd.to_datetime(dat['Date'])\n",
    "    dat['Volume'] = (pd.to_numeric(dat['Volume'], errors='coerce').fillna(0))\n",
    "    # drop volume equals 0\n",
    "    dat = dat[~(dat['Volume']==0)]\n",
    "    # store data\n",
    "    dat.to_csv('crypto_data/'+coin+'.csv')"
   ]
  }
 ],
 "metadata": {
  "kernelspec": {
   "display_name": "Python 2",
   "language": "python",
   "name": "python2"
  },
  "language_info": {
   "codemirror_mode": {
    "name": "ipython",
    "version": 2
   },
   "file_extension": ".py",
   "mimetype": "text/x-python",
   "name": "python",
   "nbconvert_exporter": "python",
   "pygments_lexer": "ipython2",
   "version": "2.7.13"
  }
 },
 "nbformat": 4,
 "nbformat_minor": 2
}
